{
 "cells": [
  {
   "cell_type": "code",
   "execution_count": 22,
   "metadata": {
    "id": "QSDw1qP52Rij"
   },
   "outputs": [
    {
     "name": "stdout",
     "output_type": "stream",
     "text": [
      "Device: cuda\n"
     ]
    }
   ],
   "source": [
    "# 라이브러리 로딩\n",
    "import torch\n",
    "import torch.nn.functional as F\n",
    "from transformers import CLIPModel, CLIPProcessor\n",
    "import os, json, random\n",
    "from PIL import Image\n",
    "from collections import defaultdict\n",
    "from sklearn.metrics.pairwise import cosine_similarity\n",
    "\n",
    "# 시드 및 디바이스 설정\n",
    "def set_seed(seed=42):\n",
    "    torch.manual_seed(seed)\n",
    "    random.seed(seed)\n",
    "    if torch.cuda.is_available():\n",
    "        torch.cuda.manual_seed_all(seed)\n",
    "\n",
    "set_seed(42)\n",
    "device = torch.device(\"cuda\" if torch.cuda.is_available() else \"cpu\")\n",
    "print(\"Device:\", device)"
   ]
  },
  {
   "cell_type": "code",
   "execution_count": 23,
   "metadata": {
    "id": "v4yy7QTw2fDX"
   },
   "outputs": [],
   "source": [
    "# 모델 및 프로세서 로드 (Hugging Face CLIP - OpenAI 원본)\n",
    "model_name = \"openai/clip-vit-base-patch32\"\n",
    "model = CLIPModel.from_pretrained(model_name).to(device).eval()\n",
    "processor = CLIPProcessor.from_pretrained(model_name)\n",
    "\n",
    "# 데이터 로딩: COCO annotations\n",
    "image_dir = \"train2017\"\n",
    "caption_json_path = \"annotations/captions_train2017.json\"\n",
    "\n",
    "with open(caption_json_path, 'r') as f:\n",
    "    coco_data = json.load(f)\n",
    "\n",
    "imgid_to_captions = defaultdict(list)\n",
    "for ann in coco_data['annotations']:\n",
    "    imgid_to_captions[ann['image_id']].append(ann['caption'])"
   ]
  },
  {
   "cell_type": "code",
   "execution_count": 24,
   "metadata": {
    "id": "n2OsxAk_2l_G"
   },
   "outputs": [],
   "source": [
    "# 무작위 이미지 3장 선택\n",
    "image_list = sorted([f for f in os.listdir(image_dir) if f.endswith(\".jpg\")])\n",
    "sample_images = random.sample(image_list, 3)\n",
    "\n",
    "# Best-of-5 캡션 선택 및 유사도 계산\n",
    "image_embeds = []\n",
    "text_embeds = []\n",
    "best_captions = []\n",
    "\n",
    "for fname in sample_images:\n",
    "    image_path = os.path.join(image_dir, fname)\n",
    "    image_id = int(os.path.splitext(fname)[0])\n",
    "    cap_list = imgid_to_captions[image_id][:5]\n",
    "\n",
    "    # 이미지 인코딩\n",
    "    image = Image.open(image_path).convert(\"RGB\")\n",
    "    image_input = processor(images=image, return_tensors=\"pt\").to(device)\n",
    "    with torch.no_grad():\n",
    "        image_embed = model.get_image_features(**image_input)\n",
    "        image_embed = F.normalize(image_embed, dim=-1)\n",
    "\n",
    "    # 텍스트 5개 인코딩\n",
    "    text_input = processor(text=cap_list, return_tensors=\"pt\", padding=True, truncation=True).to(device)\n",
    "    with torch.no_grad():\n",
    "        text_feats = model.get_text_features(**text_input)\n",
    "        text_feats = F.normalize(text_feats, dim=-1)\n",
    "\n",
    "    # 가장 유사한 텍스트 선택\n",
    "    sims = torch.matmul(image_embed, text_feats.T).squeeze()\n",
    "    best_idx = sims.argmax().item()\n",
    "\n",
    "    image_embeds.append(image_embed)\n",
    "    text_embeds.append(text_feats[best_idx].unsqueeze(0))\n",
    "    best_captions.append(cap_list[best_idx])"
   ]
  },
  {
   "cell_type": "code",
   "execution_count": 25,
   "metadata": {
    "id": "eR7_gb-u2n-p"
   },
   "outputs": [],
   "source": [
    "# Cosine similarity 계산\n",
    "image_embeds = torch.cat(image_embeds, dim=0)\n",
    "text_embeds = torch.cat(text_embeds, dim=0)\n",
    "sims = cosine_similarity(image_embeds.cpu().numpy(), text_embeds.cpu().numpy())\n"
   ]
  },
  {
   "cell_type": "code",
   "execution_count": 26,
   "metadata": {
    "id": "9ENO08D22pxP"
   },
   "outputs": [
    {
     "name": "stdout",
     "output_type": "stream",
     "text": [
      "\n",
      "CLIP Best-of-5 Caption Cosine Similarity:\n",
      "\n",
      " 000000443093.jpg\n",
      " Best caption: \"a close up of an open box of doughnuts \"\n",
      " Similarity: 0.3365\n",
      "\n",
      " 000000077159.jpg\n",
      " Best caption: \"A skier on a steep snowy hill with evergreen trees.\"\n",
      " Similarity: 0.3271\n",
      "\n",
      " 000000017560.jpg\n",
      " Best caption: \"A tan cat is lying on a bed looking at something off camera.\"\n",
      " Similarity: 0.3188\n"
     ]
    }
   ],
   "source": [
    "# 출력\n",
    "print(\"\\nCLIP Best-of-5 Caption Cosine Similarity:\")\n",
    "for i, fname in enumerate(sample_images):\n",
    "    print(f\"\\n {fname}\")\n",
    "    print(f\" Best caption: \\\"{best_captions[i]}\\\"\")\n",
    "    print(f\" Similarity: {sims[i, i]:.4f}\")"
   ]
  }
 ],
 "metadata": {
  "colab": {
   "provenance": []
  },
  "kernelspec": {
   "display_name": "Python (wasp)",
   "language": "python",
   "name": "wasp"
  },
  "language_info": {
   "codemirror_mode": {
    "name": "ipython",
    "version": 3
   },
   "file_extension": ".py",
   "mimetype": "text/x-python",
   "name": "python",
   "nbconvert_exporter": "python",
   "pygments_lexer": "ipython3",
   "version": "3.10.16"
  }
 },
 "nbformat": 4,
 "nbformat_minor": 4
}
